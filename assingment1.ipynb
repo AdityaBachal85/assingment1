{
 "cells": [
  {
   "cell_type": "code",
   "execution_count": 6,
   "id": "9dd8e301-9280-4b44-aba4-0ecec3fdf4c3",
   "metadata": {},
   "outputs": [
    {
     "name": "stdout",
     "output_type": "stream",
     "text": [
      "the sring is string\n",
      "the float is 22.8908\n",
      "the tuple is ('hii', '2')\n",
      "the list is [3, 3, '2']\n"
     ]
    }
   ],
   "source": [
    "#Q.1 \n",
    "string_1='string'\n",
    "float_1=22.8908\n",
    "tuple_1=('hii','2')\n",
    "a=b=3\n",
    "list_1=[a,b,'2']\n",
    "\n",
    "print(\"the sring is\",string_1)\n",
    "print(\"the float is\",float_1)\n",
    "print(\"the tuple is\",tuple_1)\n",
    "print(\"the list is\",list_1)"
   ]
  },
  {
   "cell_type": "code",
   "execution_count": 4,
   "id": "9b8dd39b-49ed-448a-93e6-f39365c98dc6",
   "metadata": {},
   "outputs": [
    {
     "name": "stdout",
     "output_type": "stream",
     "text": [
      "the data type of var 1 is <class 'str'>\n",
      "the data type of var 2 is <class 'str'>\n",
      "the data type of var 3 is <class 'list'>\n",
      "the data type of var 4 is <class 'int'>\n"
     ]
    }
   ],
   "source": [
    "#Q.2\n",
    "var1 = ''\n",
    "var2 = '[ DS , ML , Python]'\n",
    "var3 = [ 'DS' , 'ML' , 'Python']\n",
    "var4 = 1\n",
    "\n",
    "print(\"the data type of var 1 is\",type(var1))\n",
    "print(\"the data type of var 2 is\",type(var2))\n",
    "print(\"the data type of var 3 is\",type(var3))\n",
    "print(\"the data type of var 4 is\",type(var4))"
   ]
  },
  {
   "cell_type": "code",
   "execution_count": 6,
   "id": "84d3f652-4208-419c-b99c-89e3dcf0dca8",
   "metadata": {},
   "outputs": [
    {
     "name": "stdout",
     "output_type": "stream",
     "text": [
      "42: <class 'int'>\n",
      "Hello, world!: <class 'str'>\n",
      "3.14: <class 'float'>\n",
      "True: <class 'bool'>\n",
      "[1, 2, 3]: <class 'list'>\n",
      "{'name': 'John', 'age': 30}: <class 'dict'>\n",
      "None: <class 'NoneType'>\n",
      "(1, 2, 3): <class 'tuple'>\n",
      "{'apple', 'banana', 'cherry'}: <class 'set'>\n",
      "False: <class 'bool'>\n"
     ]
    }
   ],
   "source": [
    "#Q.4\n",
    "my_list = [42, \"Hello, world!\", 3.14, True, [1, 2, 3], {\"name\": \"John\", \"age\": 30}, None, (1, 2, 3), {\"apple\", \"banana\", \"cherry\"}, False]\n",
    "for element in my_list:\n",
    "    print(f\"{element}: {type(element)}\")\n"
   ]
  },
  {
   "cell_type": "code",
   "execution_count": 8,
   "id": "59cdb584-18a1-4ba9-a666-bc01e9839cb7",
   "metadata": {},
   "outputs": [
    {
     "name": "stdout",
     "output_type": "stream",
     "text": [
      "3.3333333333333335\n",
      "1\n",
      "3\n",
      "8\n"
     ]
    }
   ],
   "source": [
    "# Regular division\n",
    "result = 10 / 3\n",
    "print(result)  \n",
    "\n",
    "# Modulo operator (remainder)\n",
    "result = 10 % 3\n",
    "print(result)  \n",
    "\n",
    "# Floor division (integer division)\n",
    "result = 10 // 3\n",
    "print(result) \n",
    "\n",
    "# Exponentiation\n",
    "result = 2 ** 3\n",
    "print(result)  \n"
   ]
  },
  {
   "cell_type": "code",
   "execution_count": 9,
   "id": "63392ddf-7552-4f7d-9cf6-fb04cd2ae659",
   "metadata": {},
   "outputs": [
    {
     "name": "stdout",
     "output_type": "stream",
     "text": [
      "24 is purely divisible by 3 and can be divided 8 times.\n"
     ]
    }
   ],
   "source": [
    "#Q.5\n",
    "def find_divisions(a, b):\n",
    "    count = 0\n",
    "\n",
    "    while a >= b:\n",
    "        a = a - b\n",
    "        count += 1\n",
    "\n",
    "    return count\n",
    "\n",
    "# Example usage\n",
    "A = 24\n",
    "B = 3\n",
    "\n",
    "divisions = find_divisions(A, B)\n",
    "if divisions > 0:\n",
    "    print(f\"{A} is purely divisible by {B} and can be divided {divisions} times.\")\n",
    "else:\n",
    "    print(f\"{A} is not purely divisible by {B}.\")\n"
   ]
  },
  {
   "cell_type": "code",
   "execution_count": 11,
   "id": "d0378b1b-1177-4d05-bdbd-84c3d8cfc1ed",
   "metadata": {},
   "outputs": [
    {
     "name": "stdout",
     "output_type": "stream",
     "text": [
      "1 is not divisible by 3.\n",
      "2 is not divisible by 3.\n",
      "3 is divisible by 3.\n",
      "4 is not divisible by 3.\n",
      "5 is not divisible by 3.\n",
      "6 is divisible by 3.\n",
      "7 is not divisible by 3.\n",
      "8 is not divisible by 3.\n",
      "9 is divisible by 3.\n",
      "10 is not divisible by 3.\n",
      "11 is not divisible by 3.\n",
      "12 is divisible by 3.\n",
      "13 is not divisible by 3.\n",
      "14 is not divisible by 3.\n",
      "15 is divisible by 3.\n",
      "16 is not divisible by 3.\n",
      "17 is not divisible by 3.\n",
      "18 is divisible by 3.\n",
      "19 is not divisible by 3.\n",
      "20 is not divisible by 3.\n",
      "21 is divisible by 3.\n",
      "22 is not divisible by 3.\n",
      "23 is not divisible by 3.\n",
      "24 is divisible by 3.\n",
      "25 is not divisible by 3.\n"
     ]
    }
   ],
   "source": [
    "#Q.6\n",
    "# Created a list of 25 integer type data\n",
    "my_list = [1,2,3,4,5,6,7,8,9,10,11,12,13,14,15,16,17,18,19,20,21,22,23,24,25]\n",
    "\n",
    "# Loop through the list and check if each element is divisible by 3 or not\n",
    "for element in my_list:\n",
    "    if element % 3 == 0:\n",
    "        print(f\"{element} is divisible by 3.\")\n",
    "    else:\n",
    "        print(f\"{element} is not divisible by 3.\")\n"
   ]
  },
  {
   "cell_type": "code",
   "execution_count": 17,
   "id": "6c2f9af5-bab2-4e35-a15c-8dc654f9dbbb",
   "metadata": {},
   "outputs": [
    {
     "name": "stdout",
     "output_type": "stream",
     "text": [
      "i\n",
      "adi\n",
      "this data in list can be changed via this methode  AAA\n"
     ]
    }
   ],
   "source": [
    "#immutable data \n",
    "a='aditya'\n",
    "print(a[2])\n",
    "\n",
    "# a[2]=d therefore we cannot change the data on perticular string hence is immutable string\n",
    "\n",
    "#mutable string\n",
    "A=[1,2,3,4,5,'adi','aaa','bbb']\n",
    "print(A[5])\n",
    "A[5]='AAA'\n",
    "print('this data in list can be changed via this methode ',A[5])"
   ]
  },
  {
   "cell_type": "code",
   "execution_count": null,
   "id": "df8af570-e61b-4aa9-a954-3d86f71cc630",
   "metadata": {},
   "outputs": [],
   "source": []
  }
 ],
 "metadata": {
  "kernelspec": {
   "display_name": "Python 3 (ipykernel)",
   "language": "python",
   "name": "python3"
  },
  "language_info": {
   "codemirror_mode": {
    "name": "ipython",
    "version": 3
   },
   "file_extension": ".py",
   "mimetype": "text/x-python",
   "name": "python",
   "nbconvert_exporter": "python",
   "pygments_lexer": "ipython3",
   "version": "3.10.8"
  }
 },
 "nbformat": 4,
 "nbformat_minor": 5
}
